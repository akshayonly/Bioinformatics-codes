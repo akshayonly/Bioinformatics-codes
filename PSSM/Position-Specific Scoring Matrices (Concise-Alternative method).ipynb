{
 "cells": [
  {
   "cell_type": "code",
   "execution_count": 1,
   "metadata": {},
   "outputs": [],
   "source": [
    "import math"
   ]
  },
  {
   "cell_type": "code",
   "execution_count": 2,
   "metadata": {},
   "outputs": [],
   "source": [
    "sequences_list = ['ATGTCG', 'AAGACT', 'TACTCA', 'CGGAGG', 'AACCTG']"
   ]
  },
  {
   "cell_type": "code",
   "execution_count": 3,
   "metadata": {},
   "outputs": [],
   "source": [
    "sequence_len = len(sequences_list[0])\n",
    "total_sequences = len(sequences_list)"
   ]
  },
  {
   "cell_type": "code",
   "execution_count": 4,
   "metadata": {},
   "outputs": [],
   "source": [
    "# Creating dictionary which would hold\n",
    "# list of size sequence_len for each nucleotide\n",
    "pssm = { \n",
    "    'A':[0.0] * sequence_len,\n",
    "    'T':[0.0] * sequence_len,\n",
    "    'G':[0.0] * sequence_len,\n",
    "    'C':[0.0] * sequence_len\n",
    "}"
   ]
  },
  {
   "cell_type": "code",
   "execution_count": 5,
   "metadata": {},
   "outputs": [],
   "source": [
    "# Counts\n",
    "for sequence in sequences_list:\n",
    "    for index, char in enumerate(sequence):\n",
    "        pssm[char][index] += float(1)"
   ]
  },
  {
   "cell_type": "code",
   "execution_count": 6,
   "metadata": {},
   "outputs": [
    {
     "data": {
      "text/plain": [
       "{'A': [3.0, 3.0, 0.0, 2.0, 0.0, 1.0],\n",
       " 'T': [1.0, 1.0, 0.0, 2.0, 1.0, 1.0],\n",
       " 'G': [0.0, 1.0, 3.0, 0.0, 1.0, 3.0],\n",
       " 'C': [1.0, 0.0, 2.0, 1.0, 3.0, 0.0]}"
      ]
     },
     "execution_count": 6,
     "metadata": {},
     "output_type": "execute_result"
    }
   ],
   "source": [
    "pssm"
   ]
  },
  {
   "cell_type": "code",
   "execution_count": 7,
   "metadata": {},
   "outputs": [],
   "source": [
    "for key, value in pssm.items():\n",
    "    frequencies = list()\n",
    "    log_values = list()\n",
    "    for num in value:\n",
    "        # Converting raw counts to\n",
    "        # frequencies\n",
    "        num = (num/total_sequences)\n",
    "        frequencies.append(num)\n",
    "    overall_freq = sum(frequencies)/sequence_len\n",
    "    for num in frequencies:\n",
    "        # Normalise values by dividing\n",
    "        # by overall frequency\n",
    "        num = num/overall_freq\n",
    "        if num != 0:\n",
    "            # Converting values to log\n",
    "            # to base of 2\n",
    "            num = math.log(num, 2)\n",
    "        log_values.append(round(num, 2))\n",
    "    pssm[key] = log_values"
   ]
  },
  {
   "cell_type": "code",
   "execution_count": 8,
   "metadata": {},
   "outputs": [
    {
     "data": {
      "text/plain": [
       "{'A': [1.0, 1.0, 0.0, 0.42, 0.0, -0.58],\n",
       " 'T': [0.0, 0.0, 0.0, 1.0, 0.0, 0.0],\n",
       " 'G': [0.0, -0.42, 1.17, 0.0, -0.42, 1.17],\n",
       " 'C': [-0.22, 0.0, 0.78, -0.22, 1.36, 0.0]}"
      ]
     },
     "execution_count": 8,
     "metadata": {},
     "output_type": "execute_result"
    }
   ],
   "source": [
    "pssm"
   ]
  }
 ],
 "metadata": {
  "kernelspec": {
   "display_name": "Python 3",
   "language": "python",
   "name": "python3"
  },
  "language_info": {
   "codemirror_mode": {
    "name": "ipython",
    "version": 3
   },
   "file_extension": ".py",
   "mimetype": "text/x-python",
   "name": "python",
   "nbconvert_exporter": "python",
   "pygments_lexer": "ipython3",
   "version": "3.7.6"
  }
 },
 "nbformat": 4,
 "nbformat_minor": 4
}

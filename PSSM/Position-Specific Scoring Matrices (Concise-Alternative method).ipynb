{
 "cells": [
  {
   "cell_type": "code",
   "execution_count": 1,
   "metadata": {},
   "outputs": [],
   "source": [
    "import math\n",
    "\n",
    "sequences_list = ['ATGTCG', 'AAGACT', 'TACTCA', 'CGGAGG', 'AACCTG']\n",
    "\n",
    "sequence_len = len(sequences_list[0])\n",
    "total_sequences = len(sequences_list)\n",
    "\n",
    "# Creating dictionary which would hold\n",
    "# list of size sequence_len for each nucleotide\n",
    "pssm = { \n",
    "    'A':[0.0] * sequence_len,\n",
    "    'T':[0.0] * sequence_len,\n",
    "    'G':[0.0] * sequence_len,\n",
    "    'C':[0.0] * sequence_len\n",
    "}\n",
    "\n",
    "# Counts\n",
    "for sequence in sequences_list:\n",
    "    for index, char in enumerate(sequence):\n",
    "        pssm[char][index] += float(1)\n",
    "\n",
    "# Frequency\n",
    "for key, value in pssm.items():\n",
    "    new = list()\n",
    "    for num in value:\n",
    "        frequency = (num/total_sequences)\n",
    "        new.append(round(frequency, 2))\n",
    "    pssm[key] = new\n",
    "\n",
    "for key, value in pssm.items():\n",
    "    new = list()\n",
    "    overall_freq = sum(value)/sequence_len\n",
    "    for num in value:\n",
    "        # Normalise values\n",
    "        normalise_value = (num/overall_freq)\n",
    "        # Selecting non-zero normalised values to \n",
    "        # convert them into log to the base 2 values\n",
    "        if normalise_value != 0:\n",
    "            log_value = math.log(normalise_value, 2)\n",
    "            new.append(round(log_value, 2))\n",
    "    pssm[key] = new"
   ]
  },
  {
   "cell_type": "code",
   "execution_count": 2,
   "metadata": {},
   "outputs": [
    {
     "name": "stdout",
     "output_type": "stream",
     "text": [
      "A : 1.0 1.0 0.42 -0.58\n",
      "T : 0.0 0.0 1.0 0.0 0.0\n",
      "G : -0.42 1.17 -0.42 1.17\n",
      "C : -0.22 0.78 -0.22 1.36\n"
     ]
    }
   ],
   "source": [
    "# Printing \n",
    "for key, value in pssm.items():\n",
    "    print(key, ':', ' '.join([str(x) for x in value]))"
   ]
  }
 ],
 "metadata": {
  "kernelspec": {
   "display_name": "Python 3",
   "language": "python",
   "name": "python3"
  },
  "language_info": {
   "codemirror_mode": {
    "name": "ipython",
    "version": 3
   },
   "file_extension": ".py",
   "mimetype": "text/x-python",
   "name": "python",
   "nbconvert_exporter": "python",
   "pygments_lexer": "ipython3",
   "version": "3.7.6"
  }
 },
 "nbformat": 4,
 "nbformat_minor": 4
}

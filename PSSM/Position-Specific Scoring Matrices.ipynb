{
 "cells": [
  {
   "cell_type": "markdown",
   "metadata": {},
   "source": [
    "# Position-Specific Scoring Matrices"
   ]
  },
  {
   "cell_type": "code",
   "execution_count": 1,
   "metadata": {},
   "outputs": [],
   "source": [
    "import math"
   ]
  },
  {
   "cell_type": "code",
   "execution_count": 2,
   "metadata": {},
   "outputs": [],
   "source": [
    "# Sequence for computing PSSM\n",
    "sequence = ['ATGTCG', \n",
    "            'AAGACT', \n",
    "            'TACTCA', \n",
    "            'CGGAGG', \n",
    "            'AACCTG']\n",
    "\n",
    "# Nucleotides \n",
    "nucleotide = ['A', 'T', 'G', 'C']"
   ]
  },
  {
   "cell_type": "code",
   "execution_count": 3,
   "metadata": {},
   "outputs": [],
   "source": [
    "# Length of sequence\n",
    "seq_length = len(sequence[0])\n",
    "\n",
    "# Total number of sequence given\n",
    "total_sequence = len(sequence)\n",
    "\n",
    "# Total nucleotides i.e A, T, G, C \n",
    "total_nucleotide = len(nucleotide)"
   ]
  },
  {
   "cell_type": "code",
   "execution_count": 4,
   "metadata": {
    "scrolled": false
   },
   "outputs": [],
   "source": [
    "# Creating null matrices for frequency and pss\n",
    "freq_matrix = list()\n",
    "pssm = list()\n",
    "for i in range(total_nucleotide):\n",
    "    null = list()\n",
    "    log = list()\n",
    "    for j in range(seq_length):\n",
    "        null.append(float(0))\n",
    "        log.append(float(0))\n",
    "    freq_matrix.append(null)\n",
    "    pssm.append(log)\n",
    "    \n",
    "# Calculating the frequencies of nucleotides \n",
    "# in each sequence\n",
    "\n",
    "for i in range(seq_length):\n",
    "    for j in range(total_nucleotide):\n",
    "        count = 0\n",
    "        for k in range(total_sequence):\n",
    "            if (nucleotide[j]==sequence[k][i]):\n",
    "                count+=1\n",
    "                freq_matrix[j][i] = float(count/total_sequence)\n",
    "\n",
    "overall_freq = list()\n",
    "\n",
    "for line in freq_matrix:\n",
    "    score = 0\n",
    "    for digit in line:\n",
    "        score = digit + score\n",
    "    overall_freq.append(round((score/seq_length), 2))\n",
    "\n",
    "for i in range(len(freq_matrix)):\n",
    "    for j in range(len(freq_matrix[0])):\n",
    "        # Normalising the frequencies by \n",
    "        # dividing each by overall frequencies\n",
    "        normalise_value = (freq_matrix[i][j]/overall_freq[i])\n",
    "        # Selecting non-zero normalised values to \n",
    "        # convert them into log to the base 2 values\n",
    "        if normalise_value != 0:\n",
    "            log_value = math.log(normalise_value, 2)\n",
    "            pssm[i][j] = round(log_value, 2)"
   ]
  },
  {
   "cell_type": "code",
   "execution_count": 5,
   "metadata": {},
   "outputs": [
    {
     "data": {
      "text/plain": [
       "[[1.0, 1.0, 0.0, 0.42, 0.0, -0.58],\n",
       " [0.0, 0.0, 0.0, 1.0, 0.0, 0.0],\n",
       " [0.0, -0.43, 1.15, 0.0, -0.43, 1.15],\n",
       " [-0.2, 0.0, 0.8, -0.2, 1.38, 0.0]]"
      ]
     },
     "execution_count": 5,
     "metadata": {},
     "output_type": "execute_result"
    }
   ],
   "source": [
    "pssm"
   ]
  }
 ],
 "metadata": {
  "kernelspec": {
   "display_name": "Python 3",
   "language": "python",
   "name": "python3"
  },
  "language_info": {
   "codemirror_mode": {
    "name": "ipython",
    "version": 3
   },
   "file_extension": ".py",
   "mimetype": "text/x-python",
   "name": "python",
   "nbconvert_exporter": "python",
   "pygments_lexer": "ipython3",
   "version": "3.7.6"
  }
 },
 "nbformat": 4,
 "nbformat_minor": 4
}

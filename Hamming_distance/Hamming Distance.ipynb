{
 "cells": [
  {
   "cell_type": "markdown",
   "metadata": {},
   "source": [
    "# Hamming Distance"
   ]
  },
  {
   "cell_type": "markdown",
   "metadata": {},
   "source": [
    "The Hamming distance between two strings having the same length is the minimum number of symbol substitutions required to transform one string into the other. If the strings are given by s1 and s2, then we write the Hamming distance between them as $d_{\\mathrm{H}}\\left(s_{1}, s_{2}\\right)$. \n",
    "\n",
    "We can compute the Hamming distance by visual inspection: the Hamming distance between two strings is simply the number of positions in the strings at which corresponding symbols differ. \n",
    "\n",
    "[More information](https://en.wikipedia.org/wiki/Hamming_distance)"
   ]
  },
  {
   "cell_type": "markdown",
   "metadata": {},
   "source": [
    "## Counting Point Mutations"
   ]
  },
  {
   "cell_type": "code",
   "execution_count": 1,
   "metadata": {},
   "outputs": [],
   "source": [
    "# Importing libraries\n",
    "import sys\n",
    "# This python library allow ANSII \n",
    "# Color formatting output\n",
    "from termcolor import colored, cprint"
   ]
  },
  {
   "cell_type": "code",
   "execution_count": 2,
   "metadata": {},
   "outputs": [],
   "source": [
    "# Sequence 01\n",
    "seq1 = 'GAGCCTACTAACGGGAT'\n",
    "\n",
    "# Sequence 01\n",
    "seq2 = 'CATCGTAATGACGGCCT'"
   ]
  },
  {
   "cell_type": "code",
   "execution_count": 3,
   "metadata": {
    "scrolled": false
   },
   "outputs": [
    {
     "name": "stdout",
     "output_type": "stream",
     "text": [
      "Point-mutation: 7\n"
     ]
    }
   ],
   "source": [
    "# Counting the mutated and non mutated nucleotide\n",
    "non_mutate = mutate = 0\n",
    "\n",
    "#  Sequence length\n",
    "sequence_length = len(seq1)\n",
    "\n",
    "# Index position for mutated nucleotide\n",
    "mutate_position = list()\n",
    "    \n",
    "for i in range(sequence_length):\n",
    "    if seq1[i] != seq2[i]:\n",
    "        mutate+=1\n",
    "        mutate_position.append(i)\n",
    "    else:\n",
    "        non_mutate+=1\n",
    "\n",
    "print(f\"Point-mutation: {mutate}\")"
   ]
  },
  {
   "cell_type": "code",
   "execution_count": 4,
   "metadata": {},
   "outputs": [
    {
     "name": "stdout",
     "output_type": "stream",
     "text": [
      "41.0 % of the total sequence is point mutated.\n"
     ]
    }
   ],
   "source": [
    "# Percentage of point-mutation\n",
    "per_mutate = round((mutate/sequence_length), 2) * 100\n",
    "\n",
    "print(f\"{per_mutate} % of the total sequence is point mutated.\")"
   ]
  },
  {
   "cell_type": "code",
   "execution_count": 5,
   "metadata": {},
   "outputs": [
    {
     "data": {
      "text/plain": [
       "[0, 2, 4, 7, 9, 14, 15]"
      ]
     },
     "execution_count": 5,
     "metadata": {},
     "output_type": "execute_result"
    }
   ],
   "source": [
    "mutate_position"
   ]
  },
  {
   "cell_type": "markdown",
   "metadata": {},
   "source": [
    "## Visualising point mutation"
   ]
  },
  {
   "cell_type": "code",
   "execution_count": 6,
   "metadata": {},
   "outputs": [
    {
     "name": "stdout",
     "output_type": "stream",
     "text": [
      "\u001b[31mG\u001b[0m\u001b[30mA\u001b[0m\u001b[31mG\u001b[0m\u001b[30mC\u001b[0m\u001b[31mC\u001b[0m\u001b[30mT\u001b[0m\u001b[30mA\u001b[0m\u001b[31mC\u001b[0m\u001b[30mT\u001b[0m\u001b[31mA\u001b[0m\u001b[30mA\u001b[0m\u001b[30mC\u001b[0m\u001b[30mG\u001b[0m\u001b[30mG\u001b[0m\u001b[31mG\u001b[0m\u001b[31mA\u001b[0m\u001b[30mT\u001b[0m\n",
      "\n",
      "\u001b[31mC\u001b[0m\u001b[30mA\u001b[0m\u001b[31mT\u001b[0m\u001b[30mC\u001b[0m\u001b[31mG\u001b[0m\u001b[30mT\u001b[0m\u001b[30mA\u001b[0m\u001b[31mA\u001b[0m\u001b[30mT\u001b[0m\u001b[31mG\u001b[0m\u001b[30mA\u001b[0m\u001b[30mC\u001b[0m\u001b[30mG\u001b[0m\u001b[30mG\u001b[0m\u001b[31mC\u001b[0m\u001b[31mC\u001b[0m\u001b[30mT\u001b[0m"
     ]
    }
   ],
   "source": [
    "# Sequence 01\n",
    "for i in range(len(seq1)):\n",
    "    if i in mutate_position:\n",
    "        cprint(seq1[i], 'red', end='')\n",
    "    else:\n",
    "        cprint(seq1[i], 'grey', end='')\n",
    "\n",
    "print(\"\\n\")\n",
    "\n",
    "# Sequence 02\n",
    "for i in range(len(seq2)):\n",
    "    if i in mutate_position:\n",
    "        cprint(seq2[i], 'red', end='')\n",
    "    else:\n",
    "        cprint(seq2[i], 'grey', end='')\n",
    "    "
   ]
  },
  {
   "cell_type": "markdown",
   "metadata": {},
   "source": [
    "The Hamming distance between these two strings is 7. Mismatched symbols are colored red."
   ]
  }
 ],
 "metadata": {
  "kernelspec": {
   "display_name": "Python 3",
   "language": "python",
   "name": "python3"
  },
  "language_info": {
   "codemirror_mode": {
    "name": "ipython",
    "version": 3
   },
   "file_extension": ".py",
   "mimetype": "text/x-python",
   "name": "python",
   "nbconvert_exporter": "python",
   "pygments_lexer": "ipython3",
   "version": "3.7.6"
  }
 },
 "nbformat": 4,
 "nbformat_minor": 4
}

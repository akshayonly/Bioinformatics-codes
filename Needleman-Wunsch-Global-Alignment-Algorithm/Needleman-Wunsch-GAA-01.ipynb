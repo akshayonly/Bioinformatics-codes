{
 "cells": [
  {
   "cell_type": "code",
   "execution_count": 1,
   "metadata": {},
   "outputs": [],
   "source": [
    "# Importing packages\n",
    "import numpy as np"
   ]
  },
  {
   "cell_type": "code",
   "execution_count": 2,
   "metadata": {},
   "outputs": [],
   "source": [
    "sequence_one = 'ATGC'\n",
    "sequence_two = 'ATGC'"
   ]
  },
  {
   "cell_type": "code",
   "execution_count": 3,
   "metadata": {},
   "outputs": [
    {
     "name": "stdout",
     "output_type": "stream",
     "text": [
      "Length of sequence one: 4\n",
      "Length of sequence two: 4\n"
     ]
    }
   ],
   "source": [
    "len_seq_one = len(sequence_one)\n",
    "len_seq_two = len(sequence_two)\n",
    "print(f\"Length of sequence one: {len_seq_one}\\nLength of sequence two: {len_seq_two}\")"
   ]
  },
  {
   "cell_type": "code",
   "execution_count": 4,
   "metadata": {},
   "outputs": [
    {
     "name": "stdout",
     "output_type": "stream",
     "text": [
      "[[0. 0. 0. 0. 0.]\n",
      " [0. 0. 0. 0. 0.]\n",
      " [0. 0. 0. 0. 0.]\n",
      " [0. 0. 0. 0. 0.]\n",
      " [0. 0. 0. 0. 0.]]\n"
     ]
    }
   ],
   "source": [
    "# Creating empty (zeros) matrix for scores\n",
    "scores_matrix = np.zeros((len_seq_one+1, len_seq_two+1))\n",
    "print(scores_matrix)"
   ]
  },
  {
   "cell_type": "code",
   "execution_count": 5,
   "metadata": {},
   "outputs": [
    {
     "name": "stdout",
     "output_type": "stream",
     "text": [
      "[[0. 0. 0. 0.]\n",
      " [0. 0. 0. 0.]\n",
      " [0. 0. 0. 0.]\n",
      " [0. 0. 0. 0.]]\n"
     ]
    }
   ],
   "source": [
    "# Matrix to check matches and mis-matches\n",
    "checker_matrix = np.zeros((len_seq_one, len_seq_two))\n",
    "print(checker_matrix)"
   ]
  },
  {
   "cell_type": "code",
   "execution_count": 6,
   "metadata": {},
   "outputs": [],
   "source": [
    "# Assigning penalty values\n",
    "matches = 1\n",
    "mismatches = -1\n",
    "gap = -2"
   ]
  },
  {
   "cell_type": "code",
   "execution_count": 7,
   "metadata": {},
   "outputs": [
    {
     "name": "stdout",
     "output_type": "stream",
     "text": [
      "[[ 1. -1. -1. -1.]\n",
      " [-1.  1. -1. -1.]\n",
      " [-1. -1.  1. -1.]\n",
      " [-1. -1. -1.  1.]]\n"
     ]
    }
   ],
   "source": [
    "for i in range(len_seq_one):\n",
    "    for j in range(len_seq_two):\n",
    "        if sequence_one[i] == sequence_two[j]:\n",
    "            checker_matrix[i][j] = matches\n",
    "        else:\n",
    "            checker_matrix[i][j] = mismatches\n",
    "            \n",
    "print(checker_matrix)            "
   ]
  },
  {
   "cell_type": "code",
   "execution_count": 8,
   "metadata": {},
   "outputs": [
    {
     "name": "stdout",
     "output_type": "stream",
     "text": [
      "[[ 0. -2. -4. -6. -8.]\n",
      " [-2.  0.  0.  0.  0.]\n",
      " [-4.  0.  0.  0.  0.]\n",
      " [-6.  0.  0.  0.  0.]\n",
      " [-8.  0.  0.  0.  0.]]\n"
     ]
    }
   ],
   "source": [
    "# Filling matrix\n",
    "# Step 01 - Initialisation\n",
    "\n",
    "for i in range(len_seq_one+1):\n",
    "    scores_matrix[i][0]=i*gap\n",
    "for j in range(len_seq_two+1):\n",
    "    scores_matrix[0][j]=j*gap\n",
    "    \n",
    "print(scores_matrix)"
   ]
  },
  {
   "cell_type": "code",
   "execution_count": 9,
   "metadata": {},
   "outputs": [
    {
     "data": {
      "text/plain": [
       "-2.0"
      ]
     },
     "execution_count": 9,
     "metadata": {},
     "output_type": "execute_result"
    }
   ],
   "source": [
    "scores_matrix[1][0]"
   ]
  },
  {
   "cell_type": "code",
   "execution_count": 10,
   "metadata": {},
   "outputs": [],
   "source": [
    "for row_i in range(1, len_seq_one+1):\n",
    "    for col_j in range(1, len_seq_two+1):\n",
    "        score = max(scores_matrix[row_i][col_j-1]+gap, \n",
    "                    scores_matrix[row_i-1][col_j]+gap, \n",
    "                    scores_matrix[row_i-1][col_j-1]+checker_matrix[row_i-1][col_j-1])\n",
    "        scores_matrix[row_i][col_j] = score"
   ]
  },
  {
   "cell_type": "code",
   "execution_count": 11,
   "metadata": {},
   "outputs": [
    {
     "data": {
      "text/plain": [
       "array([[ 0., -2., -4., -6., -8.],\n",
       "       [-2.,  1., -1., -3., -5.],\n",
       "       [-4., -1.,  2.,  0., -2.],\n",
       "       [-6., -3.,  0.,  3.,  1.],\n",
       "       [-8., -5., -2.,  1.,  4.]])"
      ]
     },
     "execution_count": 11,
     "metadata": {},
     "output_type": "execute_result"
    }
   ],
   "source": [
    "scores_matrix"
   ]
  },
  {
   "cell_type": "code",
   "execution_count": 12,
   "metadata": {},
   "outputs": [
    {
     "data": {
      "text/plain": [
       "(5, 5)"
      ]
     },
     "execution_count": 12,
     "metadata": {},
     "output_type": "execute_result"
    }
   ],
   "source": [
    "scores_matrix.shape"
   ]
  },
  {
   "cell_type": "code",
   "execution_count": 15,
   "metadata": {},
   "outputs": [
    {
     "data": {
      "text/plain": [
       "4.0"
      ]
     },
     "execution_count": 15,
     "metadata": {},
     "output_type": "execute_result"
    }
   ],
   "source": [
    "scores_matrix[4][4]"
   ]
  },
  {
   "cell_type": "code",
   "execution_count": 20,
   "metadata": {},
   "outputs": [
    {
     "data": {
      "text/plain": [
       "'C'"
      ]
     },
     "execution_count": 20,
     "metadata": {},
     "output_type": "execute_result"
    }
   ],
   "source": [
    "sequence_one[-1]"
   ]
  },
  {
   "cell_type": "code",
   "execution_count": 21,
   "metadata": {},
   "outputs": [
    {
     "data": {
      "text/plain": [
       "'ATGC'"
      ]
     },
     "execution_count": 21,
     "metadata": {},
     "output_type": "execute_result"
    }
   ],
   "source": [
    "sequence_one"
   ]
  },
  {
   "cell_type": "code",
   "execution_count": 22,
   "metadata": {},
   "outputs": [
    {
     "data": {
      "text/plain": [
       "'ATGC'"
      ]
     },
     "execution_count": 22,
     "metadata": {},
     "output_type": "execute_result"
    }
   ],
   "source": [
    "sequence_two"
   ]
  },
  {
   "cell_type": "code",
   "execution_count": 23,
   "metadata": {},
   "outputs": [
    {
     "data": {
      "text/plain": [
       "'C'"
      ]
     },
     "execution_count": 23,
     "metadata": {},
     "output_type": "execute_result"
    }
   ],
   "source": [
    "sequence_two[-1]"
   ]
  },
  {
   "cell_type": "code",
   "execution_count": null,
   "metadata": {},
   "outputs": [],
   "source": [
    "if sequence_two[-1] == sequence_one[-1]:\n",
    "    "
   ]
  },
  {
   "cell_type": "code",
   "execution_count": 24,
   "metadata": {},
   "outputs": [
    {
     "data": {
      "text/plain": [
       "0"
      ]
     },
     "execution_count": 24,
     "metadata": {},
     "output_type": "execute_result"
    }
   ],
   "source": [
    "max(-1, 0, -4)"
   ]
  },
  {
   "cell_type": "code",
   "execution_count": null,
   "metadata": {},
   "outputs": [],
   "source": []
  }
 ],
 "metadata": {
  "kernelspec": {
   "display_name": "Python 3",
   "language": "python",
   "name": "python3"
  },
  "language_info": {
   "codemirror_mode": {
    "name": "ipython",
    "version": 3
   },
   "file_extension": ".py",
   "mimetype": "text/x-python",
   "name": "python",
   "nbconvert_exporter": "python",
   "pygments_lexer": "ipython3",
   "version": "3.8.5"
  }
 },
 "nbformat": 4,
 "nbformat_minor": 4
}
